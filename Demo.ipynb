{
 "cells": [
  {
   "cell_type": "code",
   "execution_count": null,
   "id": "f0182499",
   "metadata": {},
   "outputs": [],
   "source": [
    "import tkinter as tk\n",
    "from PIL import Image, ImageGrab, ImageDraw, ImageFont"
   ]
  },
  {
   "cell_type": "code",
   "execution_count": null,
   "id": "9f5fd9fb",
   "metadata": {},
   "outputs": [],
   "source": [
    "image_path = \"./image/screenshot.png\""
   ]
  },
  {
   "cell_type": "code",
   "execution_count": null,
   "id": "80798bb2",
   "metadata": {},
   "outputs": [],
   "source": [
    "# import pyautogui\n",
    "\n",
    "# myScreenshot = pyautogui.screenshot()\n",
    "# myScreenshot.save(image_path)"
   ]
  },
  {
   "cell_type": "code",
   "execution_count": null,
   "id": "bfc29975",
   "metadata": {},
   "outputs": [],
   "source": [
    "# import tkinter as tk\n",
    "\n",
    "# # Create the main window\n",
    "# root = tk.Tk()\n",
    "\n",
    "# # Load the image and create a PhotoImage object\n",
    "# image = tk.PhotoImage(file=\"text.png\")\n",
    "\n",
    "# # Create a label with the image and add it to the window\n",
    "# label = tk.Label(root, image=image)\n",
    "# label.pack()\n",
    "\n",
    "# # Raise the label to the top of the window stack\n",
    "# label.lift()\n",
    "\n",
    "# # Start the main event loop\n",
    "# root.mainloop()"
   ]
  },
  {
   "cell_type": "code",
   "execution_count": null,
   "id": "2efe9e39",
   "metadata": {},
   "outputs": [],
   "source": [
    "from paddleocr import PaddleOCR,draw_ocr\n",
    "# Paddleocr supports Chinese, English, French, German, Korean and Japanese.\n",
    "# You can set the parameter `lang` as `ch`, `en`, `french`, `german`, `korean`, `japan`\n",
    "# to switch the language model in order.\n",
    "\n",
    "ocr = PaddleOCR(use_angle_cls=False, lang='french') # need to run only once to download and load model into memory"
   ]
  },
  {
   "cell_type": "code",
   "execution_count": null,
   "id": "03e39dff",
   "metadata": {},
   "outputs": [],
   "source": [
    "result = ocr.ocr(image_path, cls=True)\n",
    "# for idx in range(len(result)):\n",
    "#     res = result[idx]\n",
    "#     for line in res:\n",
    "#         print(line)"
   ]
  },
  {
   "cell_type": "code",
   "execution_count": null,
   "id": "54b787c5",
   "metadata": {},
   "outputs": [],
   "source": [
    "# result"
   ]
  },
  {
   "cell_type": "code",
   "execution_count": null,
   "id": "b841546d",
   "metadata": {},
   "outputs": [],
   "source": [
    "# draw result\n",
    "from PIL import Image\n",
    "result = result[0]\n",
    "image = Image.open(image_path).convert('RGB')\n",
    "boxes = [line[0] for line in result]\n",
    "txts = [line[1][0] for line in result]\n",
    "scores = [line[1][1] for line in result]\n",
    "im_show = draw_ocr(image, boxes, txts, scores, font_path='/path/to/PaddleOCR/doc/fonts/simfang.ttf')\n",
    "im_show = Image.fromarray(im_show)\n",
    "#im_show.save('result.jpg')"
   ]
  },
  {
   "cell_type": "code",
   "execution_count": null,
   "id": "590a4b05",
   "metadata": {
    "scrolled": true
   },
   "outputs": [],
   "source": [
    "im_show"
   ]
  },
  {
   "cell_type": "code",
   "execution_count": null,
   "id": "92c26b4f",
   "metadata": {},
   "outputs": [],
   "source": [
    "from src.utils import draw_ocr_boxes"
   ]
  },
  {
   "cell_type": "code",
   "execution_count": null,
   "id": "c01f3453",
   "metadata": {},
   "outputs": [],
   "source": [
    "image_draw = draw_ocr_boxes(image, boxes, txts, scores)"
   ]
  },
  {
   "cell_type": "code",
   "execution_count": null,
   "id": "2b7c09da",
   "metadata": {},
   "outputs": [],
   "source": []
  },
  {
   "cell_type": "code",
   "execution_count": null,
   "id": "4d83da4e",
   "metadata": {},
   "outputs": [],
   "source": [
    "im_show = image_draw"
   ]
  },
  {
   "cell_type": "code",
   "execution_count": null,
   "id": "94a8d092",
   "metadata": {},
   "outputs": [],
   "source": [
    "im_show"
   ]
  },
  {
   "cell_type": "code",
   "execution_count": null,
   "id": "9b34f868",
   "metadata": {},
   "outputs": [],
   "source": [
    "import numpy as np"
   ]
  },
  {
   "cell_type": "code",
   "execution_count": null,
   "id": "532f8170",
   "metadata": {},
   "outputs": [],
   "source": [
    "box = np.reshape(np.array(boxes[0]), [-1, 1, 2]).astype(np.int64)"
   ]
  },
  {
   "cell_type": "code",
   "execution_count": null,
   "id": "4952d18a",
   "metadata": {},
   "outputs": [],
   "source": [
    "box"
   ]
  },
  {
   "cell_type": "code",
   "execution_count": null,
   "id": "37170c24",
   "metadata": {
    "scrolled": true
   },
   "outputs": [],
   "source": [
    "im_show"
   ]
  },
  {
   "cell_type": "code",
   "execution_count": null,
   "id": "d21552cf",
   "metadata": {},
   "outputs": [],
   "source": [
    "txts"
   ]
  },
  {
   "cell_type": "code",
   "execution_count": null,
   "id": "80fbbae9",
   "metadata": {},
   "outputs": [],
   "source": [
    "pause"
   ]
  },
  {
   "cell_type": "code",
   "execution_count": null,
   "id": "850beff4",
   "metadata": {},
   "outputs": [],
   "source": [
    "# get an image\n",
    "with Image.open(image_path).convert(\"RGBA\") as base:\n",
    "\n",
    "    # make a blank image for the text, initialized to transparent text color\n",
    "    txt = Image.new(\"RGBA\", base.size, (255, 255, 255, 0))\n",
    "\n",
    "    # get a font\n",
    "    fnt = ImageFont.truetype(\"./font/SourceCodePro-Black.ttf\", 40)\n",
    "    # get a drawing context\n",
    "    d = ImageDraw.Draw(txt)\n",
    "\n",
    "    # draw text, half opacity\n",
    "    d.text((50, 100), \"Hello\", font=fnt, fill=(255, 0, 255, 255))\n",
    "    # draw text, full opacity\n",
    "    d.text((1000, 1000), \"World\", font=fnt, fill=(255, 0, 255, 255))\n",
    "\n",
    "    out = Image.alpha_composite(base, txt)\n",
    "\n",
    "    out.show()"
   ]
  },
  {
   "cell_type": "markdown",
   "id": "093d0239",
   "metadata": {},
   "source": [
    "# 翻译"
   ]
  },
  {
   "cell_type": "code",
   "execution_count": null,
   "id": "855be0d5",
   "metadata": {},
   "outputs": [],
   "source": [
    "# from translate import Translator\n",
    "# translator = Translator(from_lang='fr', to_lang='zh')\n",
    "# translation = translator.translate(txts[1])\n",
    "# print(txts[1], translation)"
   ]
  },
  {
   "cell_type": "code",
   "execution_count": 1,
   "id": "7f8fbef9",
   "metadata": {},
   "outputs": [],
   "source": [
    "to_translate = \"Bonjour, monsieur!\\n Bonjour, madame! \\n Bon annee!\"\n",
    "to_language=\"zh-CN\"\n",
    "from_language=\"fr\""
   ]
  },
  {
   "cell_type": "code",
   "execution_count": 5,
   "id": "ee0907e6",
   "metadata": {},
   "outputs": [],
   "source": [
    "from src.translate import *"
   ]
  },
  {
   "cell_type": "code",
   "execution_count": 3,
   "id": "cd0041f7",
   "metadata": {},
   "outputs": [
    {
     "data": {
      "text/plain": [
       "'早上好先生！\\n 美好的一天夫人！\\n 新年快乐！'"
      ]
     },
     "execution_count": 3,
     "metadata": {},
     "output_type": "execute_result"
    }
   ],
   "source": [
    "translate(to_translate, to_language, from_language)"
   ]
  },
  {
   "cell_type": "code",
   "execution_count": 6,
   "id": "8fd37650",
   "metadata": {},
   "outputs": [],
   "source": [
    "base_link = \"http://translate.google.com/m?tl=%s&sl=%s&q=%s\"\n",
    "to_translate = urllib.parse.quote(to_translate)\n",
    "link = base_link % (to_language, from_language, to_translate)"
   ]
  },
  {
   "cell_type": "code",
   "execution_count": 7,
   "id": "71dc9f4a",
   "metadata": {},
   "outputs": [
    {
     "data": {
      "text/plain": [
       "'http://translate.google.com/m?tl=zh-CN&sl=fr&q=Bonjour%2C%20monsieur%21%0A%20Bonjour%2C%20madame%21%20%0A%20Bon%20annee%21'"
      ]
     },
     "execution_count": 7,
     "metadata": {},
     "output_type": "execute_result"
    }
   ],
   "source": [
    "link"
   ]
  },
  {
   "cell_type": "code",
   "execution_count": null,
   "id": "561e588f",
   "metadata": {},
   "outputs": [],
   "source": [
    "# mtranslate.translate(\"Bonjour, monsieur!\\n Bonjour, madame! \\n Bon annee!\", \"zh-CN\", \"fr\",)\n",
    "# mtranslate.translate(\"Hello world\", \"zh-CN\", \"en\")"
   ]
  },
  {
   "cell_type": "markdown",
   "id": "6dfad57e",
   "metadata": {},
   "source": [
    "# 测试"
   ]
  },
  {
   "cell_type": "code",
   "execution_count": null,
   "id": "755ca87a",
   "metadata": {},
   "outputs": [],
   "source": [
    "from src.game_learn import GameLearn\n",
    "game_learn = GameLearn()"
   ]
  },
  {
   "cell_type": "code",
   "execution_count": null,
   "id": "0bd56201",
   "metadata": {},
   "outputs": [],
   "source": [
    "result = game_learn.perform_ocr()"
   ]
  },
  {
   "cell_type": "code",
   "execution_count": null,
   "id": "2c33adcf",
   "metadata": {},
   "outputs": [],
   "source": [
    "game_learn.draw_ocr(result, True, True)"
   ]
  },
  {
   "cell_type": "markdown",
   "id": "d081314d",
   "metadata": {},
   "source": [
    "# 朗读"
   ]
  },
  {
   "cell_type": "code",
   "execution_count": null,
   "id": "2c17490a",
   "metadata": {},
   "outputs": [],
   "source": [
    "import pyttsx3\n",
    "#engine = pyttsx3.init()\n"
   ]
  },
  {
   "cell_type": "code",
   "execution_count": null,
   "id": "6bbe0e89",
   "metadata": {},
   "outputs": [],
   "source": [
    "engine = pyttsx3.init('sapi5')\n",
    "#　engine.setProperty('language', 'fr')"
   ]
  },
  {
   "cell_type": "code",
   "execution_count": null,
   "id": "5c004e76",
   "metadata": {},
   "outputs": [],
   "source": [
    "voices = engine.getProperty('voices')\n",
    "for voice in voices:\n",
    "    print(voice.id)\n",
    "    if \"fr\" in voice.id.lower():\n",
    "        engine.setProperty('voice', voice.id)\n",
    "        break"
   ]
  },
  {
   "cell_type": "code",
   "execution_count": null,
   "id": "9668f8a4",
   "metadata": {},
   "outputs": [],
   "source": [
    "sentence = \"J'habite a Los Angeles\"\n",
    "engine.say(sentence)\n",
    "engine.runAndWait()"
   ]
  },
  {
   "cell_type": "code",
   "execution_count": null,
   "id": "48406b34",
   "metadata": {},
   "outputs": [],
   "source": []
  }
 ],
 "metadata": {
  "kernelspec": {
   "display_name": "francais",
   "language": "python",
   "name": "francais"
  },
  "language_info": {
   "codemirror_mode": {
    "name": "ipython",
    "version": 3
   },
   "file_extension": ".py",
   "mimetype": "text/x-python",
   "name": "python",
   "nbconvert_exporter": "python",
   "pygments_lexer": "ipython3",
   "version": "3.9.16"
  }
 },
 "nbformat": 4,
 "nbformat_minor": 5
}
