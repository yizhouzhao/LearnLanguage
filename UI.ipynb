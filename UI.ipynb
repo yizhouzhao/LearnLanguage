{
 "cells": [
  {
   "cell_type": "code",
   "execution_count": 1,
   "id": "c2995cdf",
   "metadata": {},
   "outputs": [],
   "source": [
    "import tkinter\n",
    "import customtkinter\n",
    "\n",
    "customtkinter.set_appearance_mode(\"System\")  # Modes: system (default), light, dark\n",
    "customtkinter.set_default_color_theme(\"blue\")  # Themes: blue (default), dark-blue, green\n",
    "\n",
    "app = customtkinter.CTk()  # create CTk window like you do with the Tk window\n",
    "app.geometry(\"400x240\")\n",
    "\n",
    "def button_clicked():\n",
    "    print(\"Button clicked\")\n",
    "\n",
    "def on_key_press(event):\n",
    "    if event.keysym == 'Return':\n",
    "        button_clicked()\n",
    "\n",
    "        \n",
    "\n",
    "# Use CTkButton instead of tkinter Button\n",
    "button = customtkinter.CTkButton(master=app, text=\"CTkButton\", command=button_clicked)\n",
    "button.place(relx=0.5, rely=0.5, anchor=tkinter.CENTER)\n",
    "app.bind('<Return>', on_key_press)\n",
    "\n",
    "app.mainloop()"
   ]
  },
  {
   "cell_type": "code",
   "execution_count": 1,
   "id": "8dfde078",
   "metadata": {},
   "outputs": [
    {
     "name": "stdout",
     "output_type": "stream",
     "text": [
      "Keysym: Return\n",
      "Keysym: 1\n",
      "Keysym: 2\n",
      "Keysym: 3\n"
     ]
    }
   ],
   "source": [
    "import tkinter as tk\n",
    "\n",
    "def print_key(event):\n",
    "    print(\"Keysym: {}\".format(event.keysym))\n",
    "\n",
    "root = tk.Tk()\n",
    "root.bind(\"<Key>\", print_key)\n",
    "root.mainloop()"
   ]
  },
  {
   "cell_type": "code",
   "execution_count": null,
   "id": "9f58eeca",
   "metadata": {},
   "outputs": [],
   "source": []
  }
 ],
 "metadata": {
  "kernelspec": {
   "display_name": "francais",
   "language": "python",
   "name": "francais"
  },
  "language_info": {
   "codemirror_mode": {
    "name": "ipython",
    "version": 3
   },
   "file_extension": ".py",
   "mimetype": "text/x-python",
   "name": "python",
   "nbconvert_exporter": "python",
   "pygments_lexer": "ipython3",
   "version": "3.9.16"
  }
 },
 "nbformat": 4,
 "nbformat_minor": 5
}
